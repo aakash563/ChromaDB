{
 "cells": [
  {
   "cell_type": "markdown",
   "id": "d2c35db8-9adb-4f2f-8702-ed020af87bf1",
   "metadata": {},
   "source": [
    "### Initiating a persistent Chroma client"
   ]
  },
  {
   "cell_type": "code",
   "execution_count": 1,
   "id": "ca476431-ddab-4049-9226-6d59b2f167fd",
   "metadata": {},
   "outputs": [],
   "source": [
    "import chromadb"
   ]
  },
  {
   "cell_type": "markdown",
   "id": "a9695e37-563d-4ebc-aae9-30f259c906de",
   "metadata": {},
   "source": [
    "* You can configure Chroma to save and load from your local machine.\n",
    "* Data will be persisted automatically and loaded on start (if it exists)."
   ]
  },
  {
   "cell_type": "code",
   "execution_count": 2,
   "id": "8493e576-1b4e-4bbf-ac73-6aa0546ad610",
   "metadata": {},
   "outputs": [],
   "source": [
    "client = chromadb.PersistentClient(path=\"lecture2\")"
   ]
  },
  {
   "cell_type": "markdown",
   "id": "9b1918d2-7e5d-48fe-b13e-84989df3b292",
   "metadata": {},
   "source": [
    "* The **path** is where Chroma will store its database files on disk, and load them on start."
   ]
  },
  {
   "cell_type": "markdown",
   "id": "97f92413-457a-4b28-b7f1-084c8fa0dbca",
   "metadata": {},
   "source": [
    "* The client object has a few useful convenience methods."
   ]
  },
  {
   "cell_type": "markdown",
   "id": "65821394-c0e9-4e9f-9c83-7b471420b1fd",
   "metadata": {},
   "source": [
    "* client.heartbeat() - returns a nanosecond heartbeat.\n",
    "     * Useful for making sure the client remains connected."
   ]
  },
  {
   "cell_type": "markdown",
   "id": "1a7f3537-baf5-425c-9e70-0ae5eacfdb30",
   "metadata": {},
   "source": [
    "* client.reset() # Empties and completely resets the database.\n",
    "  * ⚠️ This is destructive and not reversible."
   ]
  },
  {
   "cell_type": "code",
   "execution_count": 3,
   "id": "7b293477-0ecf-413d-ae2f-daac26ff31e1",
   "metadata": {},
   "outputs": [
    {
     "data": {
      "text/plain": [
       "1703344297306534500"
      ]
     },
     "execution_count": 3,
     "metadata": {},
     "output_type": "execute_result"
    }
   ],
   "source": [
    "client.heartbeat() # returns a nanosecond heartbeat. Useful for making sure the client remains connected.\n",
    "# client.reset() # Empties and completely resets the database. ⚠️ This is destructive and not reversible."
   ]
  },
  {
   "cell_type": "markdown",
   "id": "068c1f1a-7ea2-480b-bbf9-961cd07be4f7",
   "metadata": {},
   "source": [
    "### Running Chroma in client/server mode"
   ]
  },
  {
   "cell_type": "markdown",
   "id": "7ea9c622-d3b6-483e-b427-820b54d3ad35",
   "metadata": {},
   "source": [
    "* Chroma can also be configured to run in client/server mode.\n",
    "* In this mode, the Chroma client connects to a Chroma server running in a separate process."
   ]
  },
  {
   "cell_type": "markdown",
   "id": "8b8264c0-3275-416c-91a3-fc29e0e33d84",
   "metadata": {},
   "source": [
    "* To start the Chroma server, run the following command:\n",
    "  * chroma run --path /db_path"
   ]
  },
  {
   "cell_type": "code",
   "execution_count": null,
   "id": "85447f67-7413-46bd-b4be-18a335a169a3",
   "metadata": {},
   "outputs": [],
   "source": [
    "!chroma run --path /\"lecture2\""
   ]
  },
  {
   "cell_type": "markdown",
   "id": "bdbb4351-18aa-4f38-9b49-74cec4fc4289",
   "metadata": {},
   "source": [
    "* Then use the Chroma HTTP client to connect to the server:"
   ]
  },
  {
   "cell_type": "code",
   "execution_count": null,
   "id": "f203f638-4820-4154-88a6-9fa19fea05ea",
   "metadata": {},
   "outputs": [],
   "source": [
    "import chromadb\n",
    "chroma_client = chromadb.HttpClient(host='localhost', port=8000)"
   ]
  },
  {
   "cell_type": "markdown",
   "id": "1f3878b3-9bff-482c-8f2f-808649edf9a8",
   "metadata": {},
   "source": [
    "* That's it! Chroma's API will run in client-server mode with just this change."
   ]
  },
  {
   "cell_type": "markdown",
   "id": "535205b6-cb79-41e6-8322-ca5c0d56e956",
   "metadata": {},
   "source": [
    "### Using the python http-only client"
   ]
  },
  {
   "cell_type": "markdown",
   "id": "554f2a33-d34d-436a-9bca-733ca3a723ae",
   "metadata": {},
   "source": [
    "* If you are running chroma in client-server mode, you may not need the full Chroma library.\n",
    "* Instead, you can use the lightweight client-only library.\n",
    "* In this case, you can install the chromadb-client package.\n",
    "* This package is a lightweight HTTP client for the server with a minimal dependency footprint."
   ]
  },
  {
   "cell_type": "code",
   "execution_count": null,
   "id": "24e7191e-84e0-4527-911e-412ea1759c8e",
   "metadata": {},
   "outputs": [],
   "source": [
    "# !pip install chromadb-client"
   ]
  },
  {
   "cell_type": "code",
   "execution_count": null,
   "id": "35b175b9-36f2-44ea-8403-e9496c029af1",
   "metadata": {},
   "outputs": [],
   "source": [
    "import chromadb\n",
    "# Example setup of the client to connect to your chroma server\n",
    "client = chromadb.HttpClient(host='localhost', port=8000)"
   ]
  },
  {
   "cell_type": "markdown",
   "id": "130adf7b-07c8-47f7-aa44-56bef1241904",
   "metadata": {},
   "source": [
    "* Note that the chromadb-client package is a subset of the full Chroma library and does not include all the dependencies.\n",
    "* If you want to use the full Chroma library, you can install the chromadb package instead.\n",
    "* Most importantly, there is no default embedding function.\n",
    "* If you add() documents without embeddings, you must have manually specified an embedding function and installed the dependencies for it."
   ]
  },
  {
   "cell_type": "markdown",
   "id": "cd274837-765d-4923-95e1-193ce9ae0247",
   "metadata": {},
   "source": [
    "### Using collections"
   ]
  },
  {
   "cell_type": "markdown",
   "id": "ca6714b7-a703-42bd-9603-287d091fc40f",
   "metadata": {},
   "source": [
    "* Chroma lets you manage collections of embeddings, using the collection primitive."
   ]
  },
  {
   "cell_type": "markdown",
   "id": "c4460136-327b-4c86-8778-ea9dc8ebd089",
   "metadata": {},
   "source": [
    "* Creating, inspecting, and deleting Collections\n",
    "    * Chroma uses collection names in the url, so there are a few restrictions on naming them:\n",
    "        * The length of the name must be between 3 and 63 characters\n",
    "        * The name must start and end with a lowercase letter or a digit, and it can contain dots, dashes, and underscores in between.\n",
    "        * The name must not contain two consecutive dots.\n",
    "        * The name must not be a valid IP address."
   ]
  },
  {
   "cell_type": "markdown",
   "id": "7a734336-afb4-4f8a-9b2a-ce07393bce62",
   "metadata": {},
   "source": [
    "* Chroma collections are created with a name and an optional embedding function.\n",
    "* If you supply an embedding function, you must supply it every time you get the collection."
   ]
  },
  {
   "cell_type": "code",
   "execution_count": 4,
   "id": "bbc56924-2228-4136-8324-8b4c33c48bce",
   "metadata": {},
   "outputs": [],
   "source": [
    "# collection = client.create_collection(name=\"my_collection\", embedding_function=emp_fn)\n",
    "# collection = client.get_collection(name=\"my_collection\", embedding_function=emp_fn)"
   ]
  },
  {
   "cell_type": "markdown",
   "id": "bceb48b3-85f2-4d86-a0c1-025393c46c01",
   "metadata": {},
   "source": [
    "* **CAUTION**\r",
    "* \n",
    "If you later wish to get_collection, you MUST do so with the embedding function you supplied while creating the collection"
   ]
  },
  {
   "cell_type": "markdown",
   "id": "0a016090-fa0e-42aa-97f1-d72a73e8b1e3",
   "metadata": {},
   "source": [
    "* The embedding function takes text as input, and performs tokenization and embedding.\n",
    "* If no embedding function is supplied, Chroma will use sentence transfomer as a default."
   ]
  },
  {
   "cell_type": "markdown",
   "id": "c81b8fac-534a-4b1c-8c8a-f460ebc97fbe",
   "metadata": {},
   "source": [
    "* Existing collections can be retrieved by name with **.get_collection**, and deleted with **.delete_collection**.\n",
    "* You can also use **.get_or_create_collection** to get a collection if it exists, or create it if it doesn't."
   ]
  },
  {
   "cell_type": "code",
   "execution_count": 5,
   "id": "1ceffcf6-9ce8-4380-9ae6-e46f4c24df67",
   "metadata": {},
   "outputs": [
    {
     "ename": "ValueError",
     "evalue": "Collection test does not exist.",
     "output_type": "error",
     "traceback": [
      "\u001b[1;31m---------------------------------------------------------------------------\u001b[0m",
      "\u001b[1;31mValueError\u001b[0m                                Traceback (most recent call last)",
      "Cell \u001b[1;32mIn[5], line 2\u001b[0m\n\u001b[0;32m      1\u001b[0m \u001b[38;5;66;03m# Get a collection object from an existing collection, by name. Will raise an exception if it's not found.\u001b[39;00m\n\u001b[1;32m----> 2\u001b[0m collection \u001b[38;5;241m=\u001b[39m \u001b[43mclient\u001b[49m\u001b[38;5;241;43m.\u001b[39;49m\u001b[43mget_collection\u001b[49m\u001b[43m(\u001b[49m\u001b[43mname\u001b[49m\u001b[38;5;241;43m=\u001b[39;49m\u001b[38;5;124;43m\"\u001b[39;49m\u001b[38;5;124;43mtest\u001b[39;49m\u001b[38;5;124;43m\"\u001b[39;49m\u001b[43m)\u001b[49m \n",
      "File \u001b[1;32m~\\.conda\\envs\\GenAi\\lib\\site-packages\\chromadb\\api\\client.py:218\u001b[0m, in \u001b[0;36mClient.get_collection\u001b[1;34m(self, name, id, embedding_function, data_loader)\u001b[0m\n\u001b[0;32m    208\u001b[0m \u001b[38;5;129m@override\u001b[39m\n\u001b[0;32m    209\u001b[0m \u001b[38;5;28;01mdef\u001b[39;00m \u001b[38;5;21mget_collection\u001b[39m(\n\u001b[0;32m    210\u001b[0m     \u001b[38;5;28mself\u001b[39m,\n\u001b[1;32m   (...)\u001b[0m\n\u001b[0;32m    216\u001b[0m     data_loader: Optional[DataLoader[Loadable]] \u001b[38;5;241m=\u001b[39m \u001b[38;5;28;01mNone\u001b[39;00m,\n\u001b[0;32m    217\u001b[0m ) \u001b[38;5;241m-\u001b[39m\u001b[38;5;241m>\u001b[39m Collection:\n\u001b[1;32m--> 218\u001b[0m     \u001b[38;5;28;01mreturn\u001b[39;00m \u001b[38;5;28;43mself\u001b[39;49m\u001b[38;5;241;43m.\u001b[39;49m\u001b[43m_server\u001b[49m\u001b[38;5;241;43m.\u001b[39;49m\u001b[43mget_collection\u001b[49m\u001b[43m(\u001b[49m\n\u001b[0;32m    219\u001b[0m \u001b[43m        \u001b[49m\u001b[38;5;28;43mid\u001b[39;49m\u001b[38;5;241;43m=\u001b[39;49m\u001b[38;5;28;43mid\u001b[39;49m\u001b[43m,\u001b[49m\n\u001b[0;32m    220\u001b[0m \u001b[43m        \u001b[49m\u001b[43mname\u001b[49m\u001b[38;5;241;43m=\u001b[39;49m\u001b[43mname\u001b[49m\u001b[43m,\u001b[49m\n\u001b[0;32m    221\u001b[0m \u001b[43m        \u001b[49m\u001b[43membedding_function\u001b[49m\u001b[38;5;241;43m=\u001b[39;49m\u001b[43membedding_function\u001b[49m\u001b[43m,\u001b[49m\n\u001b[0;32m    222\u001b[0m \u001b[43m        \u001b[49m\u001b[43mdata_loader\u001b[49m\u001b[38;5;241;43m=\u001b[39;49m\u001b[43mdata_loader\u001b[49m\u001b[43m,\u001b[49m\n\u001b[0;32m    223\u001b[0m \u001b[43m        \u001b[49m\u001b[43mtenant\u001b[49m\u001b[38;5;241;43m=\u001b[39;49m\u001b[38;5;28;43mself\u001b[39;49m\u001b[38;5;241;43m.\u001b[39;49m\u001b[43mtenant\u001b[49m\u001b[43m,\u001b[49m\n\u001b[0;32m    224\u001b[0m \u001b[43m        \u001b[49m\u001b[43mdatabase\u001b[49m\u001b[38;5;241;43m=\u001b[39;49m\u001b[38;5;28;43mself\u001b[39;49m\u001b[38;5;241;43m.\u001b[39;49m\u001b[43mdatabase\u001b[49m\u001b[43m,\u001b[49m\n\u001b[0;32m    225\u001b[0m \u001b[43m    \u001b[49m\u001b[43m)\u001b[49m\n",
      "File \u001b[1;32m~\\.conda\\envs\\GenAi\\lib\\site-packages\\chromadb\\telemetry\\opentelemetry\\__init__.py:127\u001b[0m, in \u001b[0;36mtrace_method.<locals>.decorator.<locals>.wrapper\u001b[1;34m(*args, **kwargs)\u001b[0m\n\u001b[0;32m    125\u001b[0m \u001b[38;5;28;01mglobal\u001b[39;00m tracer, granularity\n\u001b[0;32m    126\u001b[0m \u001b[38;5;28;01mif\u001b[39;00m trace_granularity \u001b[38;5;241m<\u001b[39m granularity:\n\u001b[1;32m--> 127\u001b[0m     \u001b[38;5;28;01mreturn\u001b[39;00m f(\u001b[38;5;241m*\u001b[39margs, \u001b[38;5;241m*\u001b[39m\u001b[38;5;241m*\u001b[39mkwargs)\n\u001b[0;32m    128\u001b[0m \u001b[38;5;28;01mif\u001b[39;00m \u001b[38;5;129;01mnot\u001b[39;00m tracer:\n\u001b[0;32m    129\u001b[0m     \u001b[38;5;28;01mreturn\u001b[39;00m f(\u001b[38;5;241m*\u001b[39margs, \u001b[38;5;241m*\u001b[39m\u001b[38;5;241m*\u001b[39mkwargs)\n",
      "File \u001b[1;32m~\\.conda\\envs\\GenAi\\lib\\site-packages\\chromadb\\api\\segment.py:260\u001b[0m, in \u001b[0;36mSegmentAPI.get_collection\u001b[1;34m(self, name, id, embedding_function, data_loader, tenant, database)\u001b[0m\n\u001b[0;32m    249\u001b[0m     \u001b[38;5;28;01mreturn\u001b[39;00m Collection(\n\u001b[0;32m    250\u001b[0m         client\u001b[38;5;241m=\u001b[39m\u001b[38;5;28mself\u001b[39m,\n\u001b[0;32m    251\u001b[0m         \u001b[38;5;28mid\u001b[39m\u001b[38;5;241m=\u001b[39mexisting[\u001b[38;5;241m0\u001b[39m][\u001b[38;5;124m\"\u001b[39m\u001b[38;5;124mid\u001b[39m\u001b[38;5;124m\"\u001b[39m],\n\u001b[1;32m   (...)\u001b[0m\n\u001b[0;32m    257\u001b[0m         database\u001b[38;5;241m=\u001b[39mexisting[\u001b[38;5;241m0\u001b[39m][\u001b[38;5;124m\"\u001b[39m\u001b[38;5;124mdatabase\u001b[39m\u001b[38;5;124m\"\u001b[39m],\n\u001b[0;32m    258\u001b[0m     )\n\u001b[0;32m    259\u001b[0m \u001b[38;5;28;01melse\u001b[39;00m:\n\u001b[1;32m--> 260\u001b[0m     \u001b[38;5;28;01mraise\u001b[39;00m \u001b[38;5;167;01mValueError\u001b[39;00m(\u001b[38;5;124mf\u001b[39m\u001b[38;5;124m\"\u001b[39m\u001b[38;5;124mCollection \u001b[39m\u001b[38;5;132;01m{\u001b[39;00mname\u001b[38;5;132;01m}\u001b[39;00m\u001b[38;5;124m does not exist.\u001b[39m\u001b[38;5;124m\"\u001b[39m)\n",
      "\u001b[1;31mValueError\u001b[0m: Collection test does not exist."
     ]
    }
   ],
   "source": [
    "# Get a collection object from an existing collection, by name. Will raise an exception if it's not found.\n",
    "collection = client.get_collection(name=\"test\") "
   ]
  },
  {
   "cell_type": "code",
   "execution_count": 6,
   "id": "01fd0cda-8739-4222-bb1b-89fe96620217",
   "metadata": {},
   "outputs": [],
   "source": [
    "# Get a collection object from an existing collection, by name. If it doesn't exist, create it.\n",
    "collection = client.get_or_create_collection(name=\"test\") "
   ]
  },
  {
   "cell_type": "code",
   "execution_count": 8,
   "id": "30970399-eaf7-47a9-a3c7-204902629696",
   "metadata": {},
   "outputs": [],
   "source": [
    "# Delete a collection and all associated embeddings, documents, and metadata. ⚠️ This is destructive and not reversible\n",
    "client.delete_collection(name=\"test\") "
   ]
  },
  {
   "cell_type": "markdown",
   "id": "f7f3703a-9556-4dfd-8b9e-8316213e5e18",
   "metadata": {},
   "source": [
    "* Collections have a few useful convenience methods."
   ]
  },
  {
   "cell_type": "markdown",
   "id": "1ea67020-54d6-419b-abc4-d2524a79ffce",
   "metadata": {},
   "source": [
    "* collection.peek() - returns a list of the first 10 items in the collection\r",
    "* \n",
    "collection.count()-# returns the number of items in the collectio\n",
    "* \r\n",
    "collection.modify(name=\"new_name\"- # Rename the collection"
   ]
  },
  {
   "cell_type": "markdown",
   "id": "286bd702-d6b2-4bf2-b354-73db10bf1257",
   "metadata": {},
   "source": [
    "### Changing the distance function"
   ]
  },
  {
   "cell_type": "markdown",
   "id": "45ba3b21-147b-4c78-9a52-6379db2e9671",
   "metadata": {},
   "source": [
    "* create_collection also takes an optional metadata argument which can be used to customize the distance method of the embedding space by setting the value of hnsw:space"
   ]
  },
  {
   "cell_type": "code",
   "execution_count": null,
   "id": "d456fba0-1c5b-4162-827d-0d51df4f1618",
   "metadata": {},
   "outputs": [],
   "source": [
    " collection = client.create_collection(\n",
    "        name=\"collection_name\",\n",
    "        metadata={\"hnsw:space\": \"cosine\"} # l2 is the default\n",
    "    )"
   ]
  },
  {
   "cell_type": "markdown",
   "id": "9e0f730e-950d-4fbb-bcaf-36205fce59a1",
   "metadata": {},
   "source": [
    "* Valid options for hnsw:space are \"l2\", \"ip, \"or \"cosine\". The default is \"l2\" which is the squared L2 norm."
   ]
  },
  {
   "cell_type": "markdown",
   "id": "0613cd8e-af66-4f12-ae7c-89d8092611e2",
   "metadata": {},
   "source": [
    "![Alt text](img/1.png)\n"
   ]
  },
  {
   "cell_type": "code",
   "execution_count": null,
   "id": "fb2c83e2-75bf-4033-a917-dc0519d0f736",
   "metadata": {},
   "outputs": [],
   "source": []
  }
 ],
 "metadata": {
  "kernelspec": {
   "display_name": "Python 3 (ipykernel)",
   "language": "python",
   "name": "python3"
  },
  "language_info": {
   "codemirror_mode": {
    "name": "ipython",
    "version": 3
   },
   "file_extension": ".py",
   "mimetype": "text/x-python",
   "name": "python",
   "nbconvert_exporter": "python",
   "pygments_lexer": "ipython3",
   "version": "3.9.18"
  }
 },
 "nbformat": 4,
 "nbformat_minor": 5
}
